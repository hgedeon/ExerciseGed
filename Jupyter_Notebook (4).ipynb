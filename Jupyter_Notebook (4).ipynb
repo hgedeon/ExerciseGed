{
 "cells": [
  {
   "cell_type": "markdown",
   "metadata": {},
   "source": [
    "<center>\n",
    "    <img src=\"https://cf-courses-data.s3.us.cloud-object-storage.appdomain.cloud/IBMDeveloperSkillsNetwork-DS0105EN-SkillsNetwork/labs/Module2/images/SN_web_lightmode.png\" width=\"300\" alt=\"cognitiveclass.ai logo\">\n",
    "</center>\n"
   ]
  },
  {
   "cell_type": "markdown",
   "metadata": {},
   "source": [
    "#### Add your code below following the instructions given in the course\n"
   ]
  },
  {
   "cell_type": "markdown",
   "metadata": {},
   "source": [
    "Questions #2- Create markdown cell with title of the notebook\n",
    "#Data Science Tools and Ecosystem are summarize\n",
    " **Data Science Tools and Ecosystem\n",
    " **Different Concepts used in Data Science\n",
    " **Explore some Tools in Data Science\n",
    " **Some Examples\n"
   ]
  },
  {
   "cell_type": "code",
   "execution_count": null,
   "metadata": {},
   "outputs": [],
   "source": [
    "Question #3-Create a markdown cell for an introduction\n",
    "#In the Data Science ecosystem, here are some Key tools and technologies used:\n",
    "### Some popular tools include:\n",
    "- Programming Languages: Python, R, SQL, Julia\n",
    "- Data Manipulation Libraries: Pandas, dplyr, NumPy\n",
    "- Machine Learning Frameworks: TensorFlow, PyTorch, Scikit-learn\n",
    "- Visualization Tools: Matplotlib, ggplot2, Tableau\n",
    "- Big Data Tools: Apache Spark, Hadoop\n",
    "- Cloud Platforms:  Azure, Google Cloud\n"
   ]
  },
  {
   "cell_type": "code",
   "execution_count": null,
   "metadata": {},
   "outputs": [],
   "source": [
    "Question #4-Create a markdown cell to list data science languages\n",
    "# List of Data Science Languages\n",
    "#Some of the popular languages used in Data Science are:\n",
    "- Python\n",
    "- R\n",
    "- SQL\n",
    "- Java\n",
    "- Julia\n",
    "- Scala\n",
    "- C++\n",
    "## The language the least used is : - C++\n"
   ]
  },
  {
   "cell_type": "code",
   "execution_count": null,
   "metadata": {},
   "outputs": [],
   "source": [
    "Question #5- Create a markdown cell to list data science libraries\n",
    "# List of Data Science Libraries used in Data Science:\n",
    "- **Pandas** \n",
    "- **NumPy**  \n",
    "- **Matplotlib** \n",
    "- **Seaborn** \n",
    "- **Scikit-learn**\n",
    "- **TensorFlow** \n",
    "- **Keras** \n",
    "- **PyTorch** \n",
    "Three (3) commonly used libraries in Data Science include:\n",
    "- **Pandas** \n",
    "- **NumPy** \n",
    "- **Matplotlib**\n"
   ]
  },
  {
   "cell_type": "code",
   "execution_count": null,
   "metadata": {},
   "outputs": [],
   "source": [
    "Question # 6-Create a markdown cell with a table of Data Science tools\n",
    "# Data Science Tools\n",
    "Data scientists use a variety of tools for data analysis, machine learning, and visualization. Below is a table of some popular tools categorized by their functionality:\n",
    "\n",
    "| Category            | Tool(s)                                           |\n",
    "|--------------------|-------------------------------------------------|\n",
    "| **Programming**    | Python, R, Julia, Scala                         |\n",
    "| **Data Analysis**  | Pandas, NumPy, dplyr (R), Apache Spark          |\n",
    "| **Machine Learning** | Scikit-learn, TensorFlow, PyTorch, XGBoost    |\n",
    "| **Data Visualization** | Matplotlib, Seaborn, ggplot2, Tableau       |\n",
    "| **Big Data**       | Apache Hadoop, Apache Spark, Dask               |\n",
    "| **Database Management** | MySQL, PostgreSQL, MongoDB, SQLite         |\n",
    "| **Cloud Platforms** | AWS, Google Cloud, Microsoft Azure             |\n"
   ]
  },
  {
   "cell_type": "code",
   "execution_count": null,
   "metadata": {},
   "outputs": [],
   "source": [
    "Qustion 7 - Create a markdown cell introducing arithmetic expression examples\n",
    "##Below are a few examples of evaluating arithmetic expressions in Python\n",
    " # Arithmetic Expression Examples\n",
    "#Here are some common arithmetic operations:\n",
    "- **Addition (`+`)**: `2 + 3 = 5`\n",
    "- **Subtraction (`-`)**: `9 - 7 = 2`\n",
    "- **Multiplication (`*`)**: `8 * 8 = 64`\n",
    "- **Division (`/`)**: `25 / 5 = 5`\n",
    "- **Exponentiation (`**`)**: `2 ** 3 = 8`\n"
   ]
  },
  {
   "cell_type": "code",
   "execution_count": null,
   "metadata": {},
   "outputs": [],
   "source": [
    "Question #8-Create a code cell to multiply and add numbers\n",
    "#This is a simple arithmetic expression to multiply then adds integer\n",
    "# Example of multiplying and adding numbers\n",
    "- result = (3 * 4) + 5\n",
    "- print(result)\n",
    "or\n",
    "a = 3\n",
    "b = 4\n",
    "c = 5\n",
    "result = (a*b)+c\n",
    "print(result)"
   ]
  },
  {
   "cell_type": "code",
   "execution_count": null,
   "metadata": {},
   "outputs": [],
   "source": [
    "Questions #9-Create a code cell to convert minutes to hours\n",
    "###This will convert 200 minutes to hours by diving by 60\n",
    "# Convert 200 minutes into hours\n",
    "convert_minutes = 200\n",
    "hours = Convert_ minutes / 60\n",
    "print(hours)\n"
   ]
  },
  {
   "cell_type": "code",
   "execution_count": null,
   "metadata": {},
   "outputs": [],
   "source": [
    "Questions #10 - Insert a markdown cell to list Objectives\n",
    "# Objectives\n",
    "Data Science Tools and Ecosystem\n",
    "some Key tools and technologies used\n",
    "List popular Languages for Data Science\n",
    "List of Data Science Libraries used in Data Science\n",
    "some popular tools categorized by their functionality"
   ]
  },
  {
   "cell_type": "code",
   "execution_count": null,
   "metadata": {},
   "outputs": [],
   "source": [
    "Question #11- Create a markdown cell to indicate the Author's name\n",
    "**Author:** Name Here"
   ]
  },
  {
   "cell_type": "code",
   "execution_count": null,
   "metadata": {},
   "outputs": [],
   "source": []
  }
 ],
 "metadata": {
  "kernelspec": {
   "display_name": "Python 3 (ipykernel)",
   "language": "python",
   "name": "python3"
  },
  "language_info": {
   "codemirror_mode": {
    "name": "ipython",
    "version": 3
   },
   "file_extension": ".py",
   "mimetype": "text/x-python",
   "name": "python",
   "nbconvert_exporter": "python",
   "pygments_lexer": "ipython3",
   "version": "3.12.8"
  }
 },
 "nbformat": 4,
 "nbformat_minor": 4
}
